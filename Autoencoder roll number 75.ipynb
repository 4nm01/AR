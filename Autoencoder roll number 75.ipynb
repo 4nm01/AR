{
  "nbformat": 4,
  "nbformat_minor": 0,
  "metadata": {
    "colab": {
      "provenance": []
    },
    "kernelspec": {
      "name": "python3",
      "display_name": "Python 3"
    },
    "language_info": {
      "name": "python"
    }
  },
  "cells": [
    {
      "cell_type": "code",
      "execution_count": 5,
      "metadata": {
        "id": "A8--Z4TXmpwE"
      },
      "outputs": [],
      "source": [
        "import pandas as pd\n",
        "import numpy as np\n",
        "import tensorflow as tf\n",
        "import matplotlib.pyplot as plt\n",
        "import seaborn as sns\n",
        "from sklearn.model_selection import train_test_split\n",
        "from sklearn.preprocessing import StandardScaler\n",
        "from sklearn.metrics import confusion_matrix, recall_score, accuracy_score, precision_score\n",
        "RANDOM_SEED = 2021\n",
        "TEST_PCT = 0.3\n",
        "LABELS = [\"Normal\",\"Fraud\"]\n",
        "\n",
        "dataset = pd.read_csv(\"creditcard.csv\")"
      ]
    },
    {
      "cell_type": "code",
      "source": [
        "print(\"Any nulls in the dataset \",dataset.isnull().values.any() )\n",
        "print('-------')\n",
        "print(\"No. of unique labels \", len(dataset['Class'].unique()))\n",
        "print(\"Label values \",dataset.Class.unique())\n",
        "print('-------')\n",
        "print(\"Break down of the Normal and Fraud Transactions\")\n",
        "print(pd.value_counts(dataset['Class'], sort = True) )"
      ],
      "metadata": {
        "colab": {
          "base_uri": "https://localhost:8080/"
        },
        "id": "UCTCyRaxtjkr",
        "outputId": "17e3332b-d769-4c84-9d87-280dc5f02ba9"
      },
      "execution_count": 6,
      "outputs": [
        {
          "output_type": "stream",
          "name": "stdout",
          "text": [
            "Any nulls in the dataset  False\n",
            "-------\n",
            "No. of unique labels  2\n",
            "Label values  [0 1]\n",
            "-------\n",
            "Break down of the Normal and Fraud Transactions\n",
            "0    284315\n",
            "1       492\n",
            "Name: Class, dtype: int64\n"
          ]
        }
      ]
    },
    {
      "cell_type": "code",
      "source": [
        "count_classes = pd.value_counts(dataset['Class'], sort = True)\n",
        "count_classes.plot(kind = 'bar', rot=0)\n",
        "plt.xticks(range(len(dataset['Class'].unique())), dataset.Class.unique())\n",
        "plt.title(\"Frequency by observation number\")\n",
        "plt.xlabel(\"Class\")\n",
        "plt.ylabel(\"Number of Observations\");"
      ],
      "metadata": {
        "colab": {
          "base_uri": "https://localhost:8080/",
          "height": 295
        },
        "id": "Jrgn3P3-tyuS",
        "outputId": "9436a6c0-b318-4e5e-c7f8-af0c37f10564"
      },
      "execution_count": 7,
      "outputs": [
        {
          "output_type": "display_data",
          "data": {
            "text/plain": [
              "<Figure size 432x288 with 1 Axes>"
            ],
            "image/png": "[encoded data removed]"
          },
          "metadata": {
            "needs_background": "light"
          }
        }
      ]
    },
    {
      "cell_type": "code",
      "source": [
        "normal_dataset = dataset[dataset.Class == 0] \n",
        "fraud_dataset = dataset[dataset.Class == 1]\n",
        "bins = np.linspace(200, 2500, 100)\n",
        "plt.hist(normal_dataset.Amount, bins=bins, alpha=1, density=True, label='Normal')\n",
        "plt.hist(fraud_dataset.Amount, bins=bins, alpha=0.5, density=True, label='Fraud')\n",
        "plt.legend(loc='upper right')\n",
        "plt.title(\"Transaction amount vs Percentage of transactions\")\n",
        "plt.xlabel(\"Transaction amount (USD)\")\n",
        "plt.ylabel(\"Percentage of transactions\");\n",
        "plt.show()"
      ],
      "metadata": {
        "colab": {
          "base_uri": "https://localhost:8080/",
          "height": 295
        },
        "id": "9eC3vUbquKjz",
        "outputId": "5e855c22-75ff-444e-defc-851485586e66"
      },
      "execution_count": 8,
      "outputs": [
        {
          "output_type": "display_data",
          "data": {
            "text/plain": [
              "<Figure size 432x288 with 1 Axes>"
            ],
            "image/png": "[encoded data removed]"
          },
          "metadata": {
            "needs_background": "light"
          }
        }
      ]
    },
    {
      "cell_type": "code",
      "source": [
        "sc=StandardScaler()\n",
        "dataset['Time'] = sc.fit_transform(dataset['Time'].values.reshape(-1, 1))\n",
        "dataset['Amount'] = sc.fit_transform(dataset['Amount'].values.reshape(-1, 1))"
      ],
      "metadata": {
        "id": "1qnsDmKwyURr"
      },
      "execution_count": 10,
      "outputs": []
    },
    {
      "cell_type": "code",
      "source": [
        "raw_data = dataset.values\n",
        "labels = raw_data[:, -1]\n",
        "data = raw_data[:, 0:-1]\n",
        "train_data, test_data, train_labels, test_labels = train_test_split(\n",
        "    data, labels, test_size=0.2, random_state=2021\n",
        ")\n",
        "min_val = tf.reduce_min(train_data)\n",
        "max_val = tf.reduce_max(train_data)\n",
        "train_data = (train_data - min_val) / (max_val - min_val)\n",
        "test_data = (test_data - min_val) / (max_val - min_val)\n",
        "train_data = tf.cast(train_data, tf.float32)\n",
        "test_data = tf.cast(test_data, tf.float32)\n",
        "\n",
        "train_labels = train_labels.astype(bool)\n",
        "test_labels = test_labels.astype(bool)\n",
        "normal_train_data = train_data[~train_labels]\n",
        "normal_test_data = test_data[~test_labels]\n",
        "fraud_train_data = train_data[train_labels]\n",
        "fraud_test_data = test_data[test_labels]\n",
        "print(\" No. of records in Fraud Train Data=\",len(fraud_train_data))\n",
        "print(\" No. of records in Normal Train data=\",len(normal_train_data))\n",
        "print(\" No. of records in Fraud Test Data=\",len(fraud_test_data))\n",
        "print(\" No. of records in Normal Test data=\",len(normal_test_data))\n"
      ],
      "metadata": {
        "colab": {
          "base_uri": "https://localhost:8080/"
        },
        "id": "z2BJf2AbykOj",
        "outputId": "ef67c881-28c9-44e6-cbe7-7b1d8c33eb1b"
      },
      "execution_count": 13,
      "outputs": [
        {
          "output_type": "stream",
          "name": "stdout",
          "text": [
            " No. of records in Fraud Train Data= 389\n",
            " No. of records in Normal Train data= 227456\n",
            " No. of records in Fraud Test Data= 103\n",
            " No. of records in Normal Test data= 56859\n"
          ]
        }
      ]
    },
    {
      "cell_type": "code",
      "source": [
        "nb_epoch = 50\n",
        "batch_size = 64\n",
        "input_dim = normal_train_data.shape[1] \n",
        "encoding_dim = 14\n",
        "hidden_dim_1 = int(encoding_dim / 2) \n",
        "hidden_dim_2=4  \n",
        "learning_rate = 1e-7"
      ],
      "metadata": {
        "id": "Q2k9Got0ypoS"
      },
      "execution_count": 23,
      "outputs": []
    },
    {
      "cell_type": "code",
      "source": [
        "\n",
        "input_layer = tf.keras.layers.Input(shape=(input_dim, ))\n",
        "encoder = tf.keras.layers.Dense(encoding_dim, activation=\"tanh\",                                activity_regularizer=tf.keras.regularizers.l2(learning_rate))(input_layer)\n",
        "encoder=tf.keras.layers.Dropout(0.2)(encoder)\n",
        "encoder = tf.keras.layers.Dense(hidden_dim_1, activation='relu')(encoder)\n",
        "encoder = tf.keras.layers.Dense(hidden_dim_2, activation=tf.nn.leaky_relu)(encoder)\n",
        "decoder = tf.keras.layers.Dense(hidden_dim_1, activation='relu')(encoder)\n",
        "decoder=tf.keras.layers.Dropout(0.2)(decoder)\n",
        "decoder = tf.keras.layers.Dense(encoding_dim, activation='relu')(decoder)\n",
        "decoder = tf.keras.layers.Dense(input_dim, activation='tanh')(decoder)\n",
        "autoencoder = tf.keras.Model(inputs=input_layer, outputs=decoder)\n",
        "autoencoder.summary()\n"
      ],
      "metadata": {
        "colab": {
          "base_uri": "https://localhost:8080/"
        },
        "id": "qcxc3IyT0HE8",
        "outputId": "611a79b8-dd87-491f-c42b-1d08e041a968"
      },
      "execution_count": 15,
      "outputs": [
        {
          "output_type": "stream",
          "name": "stdout",
          "text": [
            "Model: \"model\"\n",
            "_________________________________________________________________\n",
            " Layer (type)                Output Shape              Param #   \n",
            "=================================================================\n",
            " input_1 (InputLayer)        [(None, 30)]              0         \n",
            "                                                                 \n",
            " dense (Dense)               (None, 14)                434       \n",
            "                                                                 \n",
            " dropout (Dropout)           (None, 14)                0         \n",
            "                                                                 \n",
            " dense_1 (Dense)             (None, 7)                 105       \n",
            "                                                                 \n",
            " dense_2 (Dense)             (None, 4)                 32        \n",
            "                                                                 \n",
            " dense_3 (Dense)             (None, 7)                 35        \n",
            "                                                                 \n",
            " dropout_1 (Dropout)         (None, 7)                 0         \n",
            "                                                                 \n",
            " dense_4 (Dense)             (None, 14)                112       \n",
            "                                                                 \n",
            " dense_5 (Dense)             (None, 30)                450       \n",
            "                                                                 \n",
            "=================================================================\n",
            "Total params: 1,168\n",
            "Trainable params: 1,168\n",
            "Non-trainable params: 0\n",
            "_________________________________________________________________\n"
          ]
        }
      ]
    },
    {
      "cell_type": "code",
      "source": [
        "cp = tf.keras.callbacks.ModelCheckpoint(filepath=\"autoencoder_fraud.h5\",\n",
        "                               mode='min', monitor='val_loss', verbose=2, save_best_only=True)\n",
        "early_stop = tf.keras.callbacks.EarlyStopping(\n",
        "    monitor='val_loss',\n",
        "    min_delta=0.0001,\n",
        "    patience=10,\n",
        "    verbose=1, \n",
        "    mode='min',\n",
        "    restore_best_weights=True\n",
        ")"
      ],
      "metadata": {
        "id": "MWRlXP-O0zwr"
      },
      "execution_count": 16,
      "outputs": []
    },
    {
      "cell_type": "code",
      "source": [
        "autoencoder.compile(metrics=['accuracy'],\n",
        "                    loss='mean_squared_error',\n",
        "                    optimizer='adam')"
      ],
      "metadata": {
        "id": "rtN0vJRP05pL"
      },
      "execution_count": 17,
      "outputs": []
    },
    {
      "cell_type": "code",
      "source": [
        "history = autoencoder.fit(normal_train_data, normal_train_data,\n",
        "                    epochs=nb_epoch,\n",
        "                    batch_size=batch_size,\n",
        "                    shuffle=True,\n",
        "                    validation_data=(test_data, test_data),\n",
        "                    verbose=1,\n",
        "                    callbacks=[cp, early_stop]\n",
        "                    ).history"
      ],
      "metadata": {
        "colab": {
          "base_uri": "https://localhost:8080/"
        },
        "id": "ZJF1szpA09ab",
        "outputId": "53ed5beb-3c14-462c-ef22-e628b0e17f9c"
      },
      "execution_count": 18,
      "outputs": [
        {
          "output_type": "stream",
          "name": "stdout",
          "text": [
            "Epoch 1/50\n",
            "3554/3554 [==============================] - ETA: 0s - loss: 0.0048 - accuracy: 0.0497\n",
            "Epoch 1: val_loss improved from inf to 0.00002, saving model to autoencoder_fraud.h5\n",
            "3554/3554 [==============================] - 9s 2ms/step - loss: 0.0048 - accuracy: 0.0497 - val_loss: 1.9906e-05 - val_accuracy: 0.0351\n",
            "Epoch 2/50\n",
            "3546/3554 [============================>.] - ETA: 0s - loss: 1.9391e-05 - accuracy: 0.0715\n",
            "Epoch 2: val_loss did not improve from 0.00002\n",
            "3554/3554 [==============================] - 9s 3ms/step - loss: 1.9382e-05 - accuracy: 0.0717 - val_loss: 1.9993e-05 - val_accuracy: 0.2168\n",
            "Epoch 3/50\n",
            "3540/3554 [============================>.] - ETA: 0s - loss: 1.9466e-05 - accuracy: 0.0683\n",
            "Epoch 3: val_loss did not improve from 0.00002\n",
            "3554/3554 [==============================] - 8s 2ms/step - loss: 1.9463e-05 - accuracy: 0.0682 - val_loss: 2.0162e-05 - val_accuracy: 0.0351\n",
            "Epoch 4/50\n",
            "3553/3554 [============================>.] - ETA: 0s - loss: 1.9489e-05 - accuracy: 0.0640\n",
            "Epoch 4: val_loss did not improve from 0.00002\n",
            "3554/3554 [==============================] - 12s 3ms/step - loss: 1.9489e-05 - accuracy: 0.0640 - val_loss: 2.0017e-05 - val_accuracy: 0.0133\n",
            "Epoch 5/50\n",
            "3530/3554 [============================>.] - ETA: 0s - loss: 1.9482e-05 - accuracy: 0.0618\n",
            "Epoch 5: val_loss did not improve from 0.00002\n",
            "3554/3554 [==============================] - 8s 2ms/step - loss: 1.9496e-05 - accuracy: 0.0617 - val_loss: 2.0044e-05 - val_accuracy: 0.0051\n",
            "Epoch 6/50\n",
            "3547/3554 [============================>.] - ETA: 0s - loss: 1.9500e-05 - accuracy: 0.0622\n",
            "Epoch 6: val_loss did not improve from 0.00002\n",
            "3554/3554 [==============================] - 8s 2ms/step - loss: 1.9492e-05 - accuracy: 0.0622 - val_loss: 2.0299e-05 - val_accuracy: 0.1279\n",
            "Epoch 7/50\n",
            "3551/3554 [============================>.] - ETA: 0s - loss: 1.9486e-05 - accuracy: 0.0583\n",
            "Epoch 7: val_loss did not improve from 0.00002\n",
            "3554/3554 [==============================] - 8s 2ms/step - loss: 1.9487e-05 - accuracy: 0.0583 - val_loss: 2.0264e-05 - val_accuracy: 0.2168\n",
            "Epoch 8/50\n",
            "3545/3554 [============================>.] - ETA: 0s - loss: 1.9477e-05 - accuracy: 0.0576\n",
            "Epoch 8: val_loss did not improve from 0.00002\n",
            "3554/3554 [==============================] - 8s 2ms/step - loss: 1.9475e-05 - accuracy: 0.0576 - val_loss: 1.9927e-05 - val_accuracy: 0.0189\n",
            "Epoch 9/50\n",
            "3553/3554 [============================>.] - ETA: 0s - loss: 1.9477e-05 - accuracy: 0.0582\n",
            "Epoch 9: val_loss did not improve from 0.00002\n",
            "3554/3554 [==============================] - 9s 2ms/step - loss: 1.9476e-05 - accuracy: 0.0582 - val_loss: 2.0015e-05 - val_accuracy: 0.0010\n",
            "Epoch 10/50\n",
            "3552/3554 [============================>.] - ETA: 0s - loss: 1.9471e-05 - accuracy: 0.0604\n",
            "Epoch 10: val_loss did not improve from 0.00002\n",
            "3554/3554 [==============================] - 11s 3ms/step - loss: 1.9471e-05 - accuracy: 0.0604 - val_loss: 2.0027e-05 - val_accuracy: 4.9156e-04\n",
            "Epoch 11/50\n",
            "3545/3554 [============================>.] - ETA: 0s - loss: 1.9464e-05 - accuracy: 0.0622\n",
            "Epoch 11: val_loss did not improve from 0.00002\n",
            "Restoring model weights from the end of the best epoch: 1.\n",
            "3554/3554 [==============================] - 8s 2ms/step - loss: 1.9457e-05 - accuracy: 0.0621 - val_loss: 2.0029e-05 - val_accuracy: 0.0263\n",
            "Epoch 11: early stopping\n"
          ]
        }
      ]
    },
    {
      "cell_type": "code",
      "source": [
        "plt.plot(history['loss'], linewidth=2, label='Train')\n",
        "plt.plot(history['val_loss'], linewidth=2, label='Test')\n",
        "plt.legend(loc='upper right')\n",
        "plt.title('Model loss')\n",
        "plt.ylabel('Loss')\n",
        "plt.xlabel('Epoch')\n",
        "plt.show()"
      ],
      "metadata": {
        "colab": {
          "base_uri": "https://localhost:8080/",
          "height": 295
        },
        "id": "y8Y3Jws01Bgr",
        "outputId": "4653f407-9814-4067-da34-71aa15f918ff"
      },
      "execution_count": 19,
      "outputs": [
        {
          "output_type": "display_data",
          "data": {
            "text/plain": [
              "<Figure size 432x288 with 1 Axes>"
            ],
            "image/png": "[encoded data removed]"
          },
          "metadata": {
            "needs_background": "light"
          }
        }
      ]
    },
    {
      "cell_type": "code",
      "source": [
        "test_x_predictions = autoencoder.predict(test_data)\n",
        "mse = np.mean(np.power(test_data - test_x_predictions, 2), axis=1)\n",
        "error_df = pd.DataFrame({'Reconstruction_error': mse,\n",
        "                        'True_class': test_labels})"
      ],
      "metadata": {
        "colab": {
          "base_uri": "https://localhost:8080/"
        },
        "id": "ztuhqqx-1e0r",
        "outputId": "90977c45-537c-4fe9-bfba-acd38a84a2fb"
      },
      "execution_count": 20,
      "outputs": [
        {
          "output_type": "stream",
          "name": "stdout",
          "text": [
            "1781/1781 [==============================] - 3s 2ms/step\n"
          ]
        }
      ]
    },
    {
      "cell_type": "code",
      "source": [
        "threshold_fixed = 50\n",
        "groups = error_df.groupby('True_class')\n",
        "fig, ax = plt.subplots()\n",
        "for name, group in groups:\n",
        "    ax.plot(group.index, group.Reconstruction_error, marker='o', ms=3.5, linestyle='',\n",
        "            label= \"Fraud\" if name == 1 else \"Normal\")\n",
        "ax.hlines(threshold_fixed, ax.get_xlim()[0], ax.get_xlim()[1], colors=\"r\", zorder=100, label='Threshold')\n",
        "ax.legend()\n",
        "plt.title(\"Reconstruction error for normal and fraud data\")\n",
        "plt.ylabel(\"Reconstruction error\")\n",
        "plt.xlabel(\"Data point index\")\n",
        "plt.show();"
      ],
      "metadata": {
        "colab": {
          "base_uri": "https://localhost:8080/",
          "height": 295
        },
        "id": "tYuMJuVG1pTj",
        "outputId": "d8722e97-56f6-40cd-fda9-b5eda830c63d"
      },
      "execution_count": 21,
      "outputs": [
        {
          "output_type": "display_data",
          "data": {
            "text/plain": [
              "<Figure size 432x288 with 1 Axes>"
            ],
            "image/png": "[encoded data removed]"
          },
          "metadata": {
            "needs_background": "light"
          }
        }
      ]
    },
    {
      "cell_type": "code",
      "source": [],
      "metadata": {
        "id": "nMdpxnjA10uT"
      },
      "execution_count": null,
      "outputs": []
    }
  ]
}